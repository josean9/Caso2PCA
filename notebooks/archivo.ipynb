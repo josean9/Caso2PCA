{
 "cells": [
  {
   "cell_type": "code",
   "execution_count": 2,
   "id": "c8d34aa6",
   "metadata": {},
   "outputs": [
    {
     "name": "stdout",
     "output_type": "stream",
     "text": [
      "Collecting openpyxl\n",
      "  Downloading openpyxl-3.1.5-py2.py3-none-any.whl.metadata (2.5 kB)\n",
      "Collecting et-xmlfile (from openpyxl)\n",
      "  Downloading et_xmlfile-2.0.0-py3-none-any.whl.metadata (2.7 kB)\n",
      "Downloading openpyxl-3.1.5-py2.py3-none-any.whl (250 kB)\n",
      "Downloading et_xmlfile-2.0.0-py3-none-any.whl (18 kB)\n",
      "Installing collected packages: et-xmlfile, openpyxl\n",
      "Successfully installed et-xmlfile-2.0.0 openpyxl-3.1.5\n"
     ]
    }
   ],
   "source": [
    "!pip install openpyxl\n"
   ]
  },
  {
   "cell_type": "code",
   "execution_count": 3,
   "id": "c76bd788",
   "metadata": {},
   "outputs": [
    {
     "name": "stdout",
     "output_type": "stream",
     "text": [
      "Archivo convertido exitosamente: C:\\Users\\josit\\TERCER CURSO\\GESTION DE DATOS\\Caso2PCA\\csv_ayuda\\tabla_IA_Client_segment_MODIFICADO.xlsx\n"
     ]
    }
   ],
   "source": [
    "import pandas as pd\n",
    "\n",
    "# Ruta del archivo CSV original\n",
    "csv_path = r\"C:\\Users\\josit\\TERCER CURSO\\GESTION DE DATOS\\Caso2PCA\\csv_ayuda\\tabla_IA_Client_segment_MODIFICADO.csv\"\n",
    "\n",
    "# Leer el CSV\n",
    "df = pd.read_csv(csv_path)\n",
    "\n",
    "# Definir la ruta de salida para el archivo Excel\n",
    "xlsx_path = csv_path.replace(\".csv\", \".xlsx\")\n",
    "\n",
    "# Guardar el DataFrame como archivo Excel\n",
    "df.to_excel(xlsx_path, index=False)\n",
    "\n",
    "print(f\"Archivo convertido exitosamente: {xlsx_path}\")\n"
   ]
  }
 ],
 "metadata": {
  "kernelspec": {
   "display_name": "env1",
   "language": "python",
   "name": "python3"
  },
  "language_info": {
   "codemirror_mode": {
    "name": "ipython",
    "version": 3
   },
   "file_extension": ".py",
   "mimetype": "text/x-python",
   "name": "python",
   "nbconvert_exporter": "python",
   "pygments_lexer": "ipython3",
   "version": "3.11.9"
  }
 },
 "nbformat": 4,
 "nbformat_minor": 5
}
